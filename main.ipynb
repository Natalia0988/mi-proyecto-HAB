{
 "cells": [
  {
   "cell_type": "code",
   "execution_count": null,
   "id": "0669c116-16c4-4c9b-a30a-b8d418fa0934",
   "metadata": {},
   "outputs": [],
   "source": [
    "print (\"Hola, mundo!\")"
   ]
  },
  {
   "cell_type": "code",
   "execution_count": null,
   "id": "607c7afc-779b-4e77-9969-747f3ec39144",
   "metadata": {},
   "outputs": [],
   "source": []
  }
 ],
 "metadata": {
  "kernelspec": {
   "display_name": "Python [conda env:base] *",
   "language": "python",
   "name": "conda-base-py"
  },
  "language_info": {
   "codemirror_mode": {
    "name": "ipython",
    "version": 3
   },
   "file_extension": ".py",
   "mimetype": "text/x-python",
   "name": "python",
   "nbconvert_exporter": "python",
   "pygments_lexer": "ipython3",
   "version": "3.12.7"
  }
 },
 "nbformat": 4,
 "nbformat_minor": 5
}
